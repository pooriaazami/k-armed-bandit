{
 "cells": [
  {
   "cell_type": "code",
   "execution_count": null,
   "id": "regular-museum",
   "metadata": {},
   "outputs": [],
   "source": [
    "import numpy as np\n",
    "import matplotlib.pyplot as plt\n",
    "\n",
    "from functools import partial"
   ]
  },
  {
   "cell_type": "code",
   "execution_count": null,
   "id": "superior-parallel",
   "metadata": {},
   "outputs": [],
   "source": [
    "def get_distribution(mu=0, sigma=1):\n",
    "    return partial(np.random.normal, mu, sigma)\n",
    "\n",
    "def argmax(data):\n",
    "    index = 0\n",
    "    maximum = data[0]\n",
    "    \n",
    "    for i, value in enumerate(data):\n",
    "        if value > maximum:\n",
    "            index = i\n",
    "            maximum = value\n",
    "        \n",
    "    return index"
   ]
  },
  {
   "cell_type": "code",
   "execution_count": null,
   "id": "dynamic-recall",
   "metadata": {},
   "outputs": [],
   "source": [
    "class Button:\n",
    "    \n",
    "    def __initialize_distrubution(self, mu, sigma):\n",
    "        self.__distribution = get_distribution(mu=mu, sigma=sigma)\n",
    "    \n",
    "    def __init__(self, mu=0, sigma=1):\n",
    "        self.__mu = mu\n",
    "        self.__sigma = sigma\n",
    "        \n",
    "        self.__initialize_distrubution(mu, sigma)\n",
    "        \n",
    "        \n",
    "    def __call__(self, size):\n",
    "        return self.__distribution(size)\n",
    "    \n",
    "\n",
    "    @property\n",
    "    def mu(self):\n",
    "        return self.__mu\n",
    "    \n",
    "    @property\n",
    "    def sigma(self):\n",
    "        return self.__sigma\n",
    "    \n",
    "    @mu.setter\n",
    "    def mu(self, value):\n",
    "        self.__mu = mu\n",
    "        \n",
    "        self.__initialize_distrubution(mu, sigma)\n",
    "    \n",
    "    @sigma.setter\n",
    "    def sigma(self, value):\n",
    "        self.__sigma = sigma\n",
    "        \n",
    "        self.__initialize_distrubution(mu, sigma)\n",
    "        \n",
    "    def __repr__(self):\n",
    "        return f'Button(mu={self.__mu}, sigma={self.__sigma})'"
   ]
  },
  {
   "cell_type": "code",
   "execution_count": null,
   "id": "attractive-milton",
   "metadata": {},
   "outputs": [],
   "source": [
    "class Agent:\n",
    "    def __init__(self, buttons_list, alpha):\n",
    "        self.__buttons = buttons_list\n",
    "        self.__alpha = alpha\n",
    "        \n",
    "        self.__log = []\n",
    "        self.__Q = [0 for _ in range(BUTTONS_COUNT)]\n",
    "        \n",
    "    def __call__(self):\n",
    "        ...    \n",
    "    \n",
    "    @property\n",
    "    def log(self):\n",
    "        return self.__log\n",
    "    \n",
    "    @property\n",
    "    def Q(self):\n",
    "        return self.__Q\n",
    "    \n",
    "    @property\n",
    "    def alpha(self):\n",
    "        return self.__alpha\n",
    "    \n",
    "    @alpha.setter\n",
    "    def alpha(self, value):\n",
    "        self.__alpha = value"
   ]
  },
  {
   "cell_type": "code",
   "execution_count": null,
   "id": "medium-civilization",
   "metadata": {},
   "outputs": [],
   "source": [
    "class EpsilonGridyAgent(Agent):\n",
    "    def __init__(self, buttons_list, epsilon=0.05, alpha=0.01):\n",
    "        super(EpsilonGridyAgent, self).__init__(buttons_list, alpha)\n",
    "        \n",
    "        self.__epsilon = epsilon\n",
    "    \n",
    "    @property\n",
    "    def epsilon(self):\n",
    "        return self.__epsilon\n",
    "    \n",
    "    @epsilon.setter\n",
    "    def epsilon(self, value):\n",
    "        if value >= 0 and value <= 1:\n",
    "            self.__epsilon = epsilon\n",
    "           \n",
    "    def __move(self, button):\n",
    "        value = self._Agent__buttons[button](1)[0]\n",
    "        self._Agent__log.append(value)\n",
    "        \n",
    "        self._Agent__Q[button] = self._Agent__Q[button] + self._Agent__alpha * (value - self._Agent__Q[button])\n",
    "    \n",
    "    def __explore(self):\n",
    "        move = np.random.randint(BUTTONS_COUNT)\n",
    "        self.__move(move)\n",
    "        \n",
    "    def __exploit(self):\n",
    "        maximum = argmax(self._Agent__Q)\n",
    "        self.__move(maximum)\n",
    "    \n",
    "    def __call__(self):\n",
    "        value = np.random.uniform(0, 1)\n",
    "                \n",
    "        if value < self.__epsilon:\n",
    "            self.__explore()\n",
    "        else:\n",
    "            self.__exploit()"
   ]
  },
  {
   "cell_type": "code",
   "execution_count": null,
   "id": "portuguese-turkey",
   "metadata": {},
   "outputs": [],
   "source": [
    "class OptimisticInitialValueAgent(Agent):\n",
    "    def __init__(self,buttons_list, alpha=0.01):\n",
    "        super(OptimisticInitialValueAgent, self).__init__(buttons_list, alpha)\n",
    "        \n",
    "        for i in range(BUTTONS_COUNT):\n",
    "            self._Agent__Q[i] = MAXIMUM_MU + 1\n",
    "        \n",
    "        self._Agent_alpha = alpha     \n",
    "\n",
    "        \n",
    "    def __call__(self):\n",
    "        button = argmax(self._Agent__Q)\n",
    "        value = self._Agent__buttons[button](1)[0]\n",
    "        \n",
    "        self._Agent__log.append(value)\n",
    "        self._Agent__Q[button] = self._Agent__Q[button] + self._Agent__alpha * (value - self._Agent__Q[button])\n",
    "        "
   ]
  },
  {
   "cell_type": "code",
   "execution_count": null,
   "id": "minor-reply",
   "metadata": {},
   "outputs": [],
   "source": [
    "class UpperConfidenceBoundAgnent(Agent):\n",
    "    def __init__(self,buttons_list, c=1, alpha=0.01):\n",
    "        super(UpperConfidenceBoundAgnent, self).__init__(buttons_list, alpha)\n",
    "        \n",
    "        self.__c = c    \n",
    "        self.__N = [1 for _ in range(BUTTONS_COUNT)]\n",
    "        self.__counter = 0\n",
    "           \n",
    "    @property\n",
    "    def c(self):\n",
    "        return self.__c\n",
    "  \n",
    "\n",
    "    @c.setter\n",
    "    def c(self, value):\n",
    "        self.__alpha = value\n",
    "        \n",
    "    def __new_Q(self, index):\n",
    "        return self._Agent__Q[index] + self.__c * np.sqrt(np.log(self.__counter) / self.__N[index])\n",
    "    \n",
    "    def __call__(self):\n",
    "        self.__counter += 1\n",
    "        new_values = [self.__new_Q(i) for i in range(BUTTONS_COUNT)]\n",
    "        \n",
    "        button = argmax(new_values)\n",
    "        value = self._Agent__buttons[button](1)[0] \n",
    "        self.__N[button] += 1\n",
    "        \n",
    "        self._Agent__log.append(value)\n",
    "        \n",
    "        self._Agent__Q[button] = self._Agent__Q[button] + self._Agent__alpha * (value - self._Agent__Q[button])"
   ]
  },
  {
   "cell_type": "code",
   "execution_count": null,
   "id": "eastern-energy",
   "metadata": {},
   "outputs": [],
   "source": [
    "BUTTONS_COUNT = 4\n",
    "MINIMUM_MU = 0\n",
    "MAXIMUM_MU = 10\n",
    "ITERATIONS = 10000"
   ]
  },
  {
   "cell_type": "code",
   "execution_count": null,
   "id": "relative-gather",
   "metadata": {},
   "outputs": [],
   "source": [
    "buttons = [Button(mu=np.random.uniform(low=MINIMUM_MU, high=MAXIMUM_MU)) for _ in range(BUTTONS_COUNT)]"
   ]
  },
  {
   "cell_type": "code",
   "execution_count": null,
   "id": "caroline-poultry",
   "metadata": {},
   "outputs": [],
   "source": [
    "epsilon_greedy = EpsilonGridyAgent(buttons)\n",
    "optimistic_initial_value = OptimisticInitialValueAgent(buttons)\n",
    "UCB = UpperConfidenceBoundAgnent(buttons)"
   ]
  },
  {
   "cell_type": "code",
   "execution_count": null,
   "id": "sublime-warning",
   "metadata": {},
   "outputs": [],
   "source": [
    "def log():\n",
    "    print(f'epsilon greedy: {epsilon_greedy_log.mean()}')\n",
    "    print(f'optimistic initial value {optimistic_initial_value_log.mean()}')\n",
    "    print(f'UCB {UCB_log.mean()}')"
   ]
  },
  {
   "cell_type": "code",
   "execution_count": null,
   "id": "loving-employment",
   "metadata": {},
   "outputs": [],
   "source": [
    "for i in range(ITERATIONS):\n",
    "    if i % 500 == 0:\n",
    "        print(i)\n",
    "        log()\n",
    "        print('-' * 50)\n",
    "        \n",
    "    epsilon_greedy()\n",
    "    optimistic_initial_value()\n",
    "    UCB()"
   ]
  },
  {
   "cell_type": "code",
   "execution_count": null,
   "id": "isolated-bullet",
   "metadata": {},
   "outputs": [],
   "source": [
    "epsilon_greedy_log = np.array(epsilon_greedy.log)\n",
    "optimistic_initial_value_log = np.array(optimistic_initial_value.log)\n",
    "UCB_log = np.array(UCB.log)"
   ]
  },
  {
   "cell_type": "code",
   "execution_count": null,
   "id": "stopped-collector",
   "metadata": {},
   "outputs": [],
   "source": [
    "plt.plot(epsilon_greedy.log, color='blue')\n",
    "plt.plot(optimistic_initial_value.log, color='red')\n",
    "plt.plot(UCB.log, color='green')"
   ]
  },
  {
   "cell_type": "code",
   "execution_count": null,
   "id": "composite-madagascar",
   "metadata": {},
   "outputs": [],
   "source": [
    "log()"
   ]
  },
  {
   "cell_type": "code",
   "execution_count": null,
   "id": "collected-ratio",
   "metadata": {},
   "outputs": [],
   "source": [
    "for i in range(BUTTONS_COUNT):\n",
    "    print(buttons[i])\n",
    "    print(f'epsilon greedy: {epsilon_greedy.Q[i]}')\n",
    "    print(f'optimistic initial value: {optimistic_initial_value.Q[i]}')\n",
    "    print(f'UCB: {UCB.Q[i]}')\n",
    "    print('-' * 50)"
   ]
  },
  {
   "cell_type": "code",
   "execution_count": null,
   "id": "funded-cameroon",
   "metadata": {},
   "outputs": [],
   "source": []
  }
 ],
 "metadata": {
  "kernelspec": {
   "display_name": "Python 3",
   "language": "python",
   "name": "python3"
  },
  "language_info": {
   "codemirror_mode": {
    "name": "ipython",
    "version": 3
   },
   "file_extension": ".py",
   "mimetype": "text/x-python",
   "name": "python",
   "nbconvert_exporter": "python",
   "pygments_lexer": "ipython3",
   "version": "3.7.9"
  }
 },
 "nbformat": 4,
 "nbformat_minor": 5
}
